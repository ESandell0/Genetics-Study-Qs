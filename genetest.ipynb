{
 "cells": [
  {
   "cell_type": "code",
   "execution_count": 276,
   "metadata": {},
   "outputs": [],
   "source": [
    "'''Genetics question generator'''\n",
    "import pandas as pd\n",
    "import random as rd"
   ]
  },
  {
   "attachments": {},
   "cell_type": "markdown",
   "metadata": {},
   "source": [
    "## Question doc generator \n",
    "Generates manipulated text file from word docx"
   ]
  },
  {
   "cell_type": "code",
   "execution_count": 277,
   "metadata": {},
   "outputs": [
    {
     "name": "stdout",
     "output_type": "stream",
     "text": [
      "File already exists\n"
     ]
    }
   ],
   "source": [
    "text = pd.read_table('base.txt')\n",
    "questions = 0\n",
    "try:\n",
    "    open('Questions.txt')\n",
    "except:\n",
    "    for index, row in enumerate(text.iloc[:, 1]):\n",
    "        if questions == 0 and index == 0:\n",
    "            with open('Questions.txt', 'a') as file:\n",
    "                file.write('Number\\tQuestion\\n')\n",
    "        if  'Ch' not in text.iloc[index, 0]:\n",
    "            questions += 1\n",
    "            with open('Questions.txt', 'a') as file:\n",
    "                file.write(f'{questions}\\t{row}\\n')\n",
    "        else:\n",
    "            print('CHAPTER ROW',index, text.iloc[index, 0], row)\n",
    "    file.close()\n",
    "else:\n",
    "    print('File already exists')\n",
    "\n"
   ]
  },
  {
   "cell_type": "code",
   "execution_count": 243,
   "metadata": {},
   "outputs": [],
   "source": [
    "questions = pd.read_table('Questions.txt',encoding='latin-1')\n",
    "#print(questions['Question'])\n",
    "picked = []\n",
    "\n",
    "def Generate(seed = 1, refresh = False):\n",
    "    global picked\n",
    "    if refresh == True:\n",
    "        picked = []\n",
    "    if seed > 1:\n",
    "        cval = rd.randint(int(242-242*(2-seed)),242)\n",
    "    if seed < 1:\n",
    "        cval = rd.randint(0,int(242*seed))\n",
    "    if seed < 0 or seed > 2:\n",
    "        print('Invalid seed;\\nPlease provide a seed between 0 and 2')\n",
    "    else:\n",
    "        cval = rd.randint(0,242)\n",
    "\n",
    "    if cval in picked:\n",
    "        print(f'{questions.iloc[cval, 1]}\\n')\n",
    "        print('Youve already answered this one, fetching another...\\n')\n",
    "        Generate(seed)\n",
    "   \n",
    "    else:\n",
    "        picked.append(cval)\n",
    "        print(questions.iloc[cval, 1])"
   ]
  },
  {
   "cell_type": "code",
   "execution_count": 274,
   "metadata": {},
   "outputs": [
    {
     "name": "stdout",
     "output_type": "stream",
     "text": [
      "Define fitness.\n",
      "\n",
      "Youve already answered this one, fetching another...\n",
      "\n",
      "Which effects does migration (gene flow) have on populations? How large (big or small) is the effect at \"normal\" migration sizes? What is the important evolutionary effect on two separate populations if there is (i) migration or (ii) no migration?\n"
     ]
    }
   ],
   "source": [
    "Generate()"
   ]
  }
 ],
 "metadata": {
  "kernelspec": {
   "display_name": "Python 3",
   "language": "python",
   "name": "python3"
  },
  "language_info": {
   "codemirror_mode": {
    "name": "ipython",
    "version": 3
   },
   "file_extension": ".py",
   "mimetype": "text/x-python",
   "name": "python",
   "nbconvert_exporter": "python",
   "pygments_lexer": "ipython3",
   "version": "3.10.0"
  },
  "orig_nbformat": 4
 },
 "nbformat": 4,
 "nbformat_minor": 2
}
